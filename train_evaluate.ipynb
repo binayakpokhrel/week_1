{
 "cells": [
  {
   "cell_type": "code",
   "execution_count": 1,
   "metadata": {
    "ExecuteTime": {
     "end_time": "2019-02-19T10:22:44.717342Z",
     "start_time": "2019-02-19T10:22:43.495441Z"
    }
   },
   "outputs": [],
   "source": [
    "import pickle\n",
    "import os\n",
    "import numpy as np\n",
    "from sklearn.preprocessing import LabelEncoder\n",
    "from sklearn.svm import SVC\n",
    "from sklearn.metrics import classification_report, confusion_matrix, accuracy_score\n",
    "from sklearn.model_selection import train_test_split\n",
    "\n",
    "import seaborn as sns\n",
    "import matplotlib.pyplot as plt\n",
    "%matplotlib inline"
   ]
  },
  {
   "cell_type": "code",
   "execution_count": 2,
   "metadata": {
    "ExecuteTime": {
     "end_time": "2019-02-19T10:22:44.771506Z",
     "start_time": "2019-02-19T10:22:44.724363Z"
    }
   },
   "outputs": [],
   "source": [
    "# read embedding\n",
    "data = pickle.loads(\n",
    "                    open(os.path.join('output', 'embeddings.pickle'), 'rb').read()\n",
    "                    )"
   ]
  },
  {
   "cell_type": "code",
   "execution_count": 3,
   "metadata": {
    "ExecuteTime": {
     "end_time": "2019-02-19T10:22:44.882409Z",
     "start_time": "2019-02-19T10:22:44.775225Z"
    }
   },
   "outputs": [],
   "source": [
    "# label encoding\n",
    "# svc accepts 1D 'y' so we'll not one hot encode\n",
    "enc = LabelEncoder()\n",
    "labels = enc.fit_transform(data['labels'])"
   ]
  },
  {
   "cell_type": "code",
   "execution_count": 4,
   "metadata": {
    "ExecuteTime": {
     "end_time": "2019-02-19T10:22:45.007590Z",
     "start_time": "2019-02-19T10:22:44.886623Z"
    }
   },
   "outputs": [],
   "source": [
    "X = data['embeddings']\n",
    "y = labels\n",
    "X_train, X_test, y_train, y_test = train_test_split(\n",
    "    X, y, test_size=0.3)"
   ]
  },
  {
   "cell_type": "markdown",
   "metadata": {
    "ExecuteTime": {
     "end_time": "2019-01-21T11:01:13.727205Z",
     "start_time": "2019-01-21T11:01:13.721807Z"
    }
   },
   "source": [
    "### SVM"
   ]
  },
  {
   "cell_type": "code",
   "execution_count": 5,
   "metadata": {
    "ExecuteTime": {
     "end_time": "2019-02-19T10:22:45.123422Z",
     "start_time": "2019-02-19T10:22:45.010509Z"
    }
   },
   "outputs": [
    {
     "data": {
      "text/plain": [
       "SVC(C=1.0, cache_size=200, class_weight=None, coef0=0.0,\n",
       "  decision_function_shape='ovr', degree=3, gamma='auto', kernel='linear',\n",
       "  max_iter=-1, probability=True, random_state=None, shrinking=True,\n",
       "  tol=0.001, verbose=False)"
      ]
     },
     "execution_count": 5,
     "metadata": {},
     "output_type": "execute_result"
    }
   ],
   "source": [
    "# fit svm model\n",
    "model = SVC(C=1.0, kernel='linear', probability=True)\n",
    "model.fit(X_train, y_train)"
   ]
  },
  {
   "cell_type": "code",
   "execution_count": 9,
   "metadata": {
    "ExecuteTime": {
     "end_time": "2019-02-19T10:22:45.210232Z",
     "start_time": "2019-02-19T10:22:45.129373Z"
    }
   },
   "outputs": [
    {
     "name": "stdout",
     "output_type": "stream",
     "text": [
      "['Kishor_Neupane', 'Suravi_Regmi', 'Vladimir_Putin', 'Bipin_Kc']\n",
      "[1 2 3 0]\n"
     ]
    }
   ],
   "source": [
    "target_names = list(set(data['labels']))\n",
    "len(target_names)\n",
    "print(target_names)\n",
    "print(enc.transform(target_names))"
   ]
  },
  {
   "cell_type": "code",
   "execution_count": 7,
   "metadata": {
    "ExecuteTime": {
     "end_time": "2019-02-19T10:22:45.323628Z",
     "start_time": "2019-02-19T10:22:45.212165Z"
    }
   },
   "outputs": [
    {
     "name": "stderr",
     "output_type": "stream",
     "text": [
      "/home/bean/anaconda3/lib/python3.5/site-packages/sklearn/preprocessing/label.py:151: DeprecationWarning: The truth value of an empty array is ambiguous. Returning False, but in future this will result in an error. Use `array.size > 0` to check that an array is not empty.\n",
      "  if diff:\n"
     ]
    },
    {
     "data": {
      "text/plain": [
       "array(['Bipin_Kc', 'Kishor_Neupane', 'Vladimir_Putin', 'Suravi_Regmi'],\n",
       "      dtype='<U14')"
      ]
     },
     "execution_count": 7,
     "metadata": {},
     "output_type": "execute_result"
    }
   ],
   "source": [
    "t_names = enc.inverse_transform(enc.transform(target_names))\n",
    "t_names"
   ]
  },
  {
   "cell_type": "code",
   "execution_count": 8,
   "metadata": {
    "ExecuteTime": {
     "end_time": "2019-02-19T10:23:02.775210Z",
     "start_time": "2019-02-19T10:23:02.764411Z"
    }
   },
   "outputs": [
    {
     "name": "stdout",
     "output_type": "stream",
     "text": [
      "['Bipin_Kc', 'Kishor_Neupane', 'Vladimir_Putin', 'Suravi_Regmi']\n"
     ]
    },
    {
     "data": {
      "text/plain": [
       "['Bipin_Kc', 'Kishor_Neupane', 'Suravi_Regmi', 'Vladimir_Putin']"
      ]
     },
     "execution_count": 8,
     "metadata": {},
     "output_type": "execute_result"
    }
   ],
   "source": [
    "# just sorting names to match the labels for generating reports\n",
    "a = target_names\n",
    "b = [i for i in range(len(target_names))]\n",
    "print(a)\n",
    "s = sorted(zip(a,b))\n",
    "a,b = map(list, zip(*s))\n",
    "tar_names = a\n",
    "tar_names"
   ]
  },
  {
   "cell_type": "code",
   "execution_count": 9,
   "metadata": {
    "ExecuteTime": {
     "end_time": "2019-02-19T10:22:45.922539Z",
     "start_time": "2019-02-19T10:22:45.423933Z"
    },
    "scrolled": false
   },
   "outputs": [
    {
     "name": "stdout",
     "output_type": "stream",
     "text": [
      "Test accuracy:  0.9166666666666666\n",
      "[0 1 2 3]\n",
      "                precision    recall  f1-score   support\n",
      "\n",
      "      Bipin_Kc       1.00      0.71      0.83         7\n",
      "Kishor_Neupane       0.80      1.00      0.89         8\n",
      "  Suravi_Regmi       1.00      1.00      1.00         4\n",
      "Vladimir_Putin       1.00      1.00      1.00         5\n",
      "\n",
      "   avg / total       0.93      0.92      0.91        24\n",
      "\n"
     ]
    },
    {
     "data": {
      "image/png": "[encoded data removed]",
      "text/plain": [
       "<Figure size 432x288 with 2 Axes>"
      ]
     },
     "metadata": {},
     "output_type": "display_data"
    }
   ],
   "source": [
    "# testing or prediction\n",
    "y_preds = model.predict(X_test)\n",
    "\n",
    "#print(enc.inverse_transform(y_test))\n",
    "\n",
    "accuracy = accuracy_score(y_test, y_preds)\n",
    "print('Test accuracy: ', accuracy)\n",
    "\n",
    "print(model.classes_)\n",
    "\n",
    "clf_report = classification_report(y_test, y_preds, target_names=tar_names)\n",
    "conf_mat = confusion_matrix(y_test, y_preds)\n",
    "sns.heatmap(conf_mat, square=True, annot=True, fmt='d', cbar=True,\n",
    "            xticklabels=tar_names,\n",
    "            yticklabels=tar_names)\n",
    "plt.ylabel('true label')\n",
    "plt.xlabel('predicted label');\n",
    "\n",
    "print(clf_report)"
   ]
  },
  {
   "cell_type": "code",
   "execution_count": 10,
   "metadata": {
    "ExecuteTime": {
     "end_time": "2019-02-19T10:22:45.940779Z",
     "start_time": "2019-02-19T10:22:45.934275Z"
    }
   },
   "outputs": [],
   "source": [
    "# save model\n",
    "with open(os.path.join('output', 'recognition_model_svm.pickle'), 'wb') as f:\n",
    "    f.write(pickle.dumps(model))\n",
    "\n",
    "# save label encoder\n",
    "with open(os.path.join('output', 'label_encoded.pickle'), 'wb') as f:\n",
    "    f.write(pickle.dumps(enc))"
   ]
  },
  {
   "cell_type": "markdown",
   "metadata": {
    "ExecuteTime": {
     "end_time": "2019-01-21T11:01:23.606780Z",
     "start_time": "2019-01-21T11:01:20.054Z"
    }
   },
   "source": [
    "### KNN"
   ]
  },
  {
   "cell_type": "code",
   "execution_count": 12,
   "metadata": {
    "ExecuteTime": {
     "end_time": "2019-02-19T10:22:46.209753Z",
     "start_time": "2019-02-19T10:22:45.946695Z"
    }
   },
   "outputs": [],
   "source": [
    "from sklearn import neighbors\n",
    "from sklearn.model_selection import GridSearchCV\n",
    "\n",
    "# param_grid = {'n_neighbors': [1,2,3,5,8,13]}\n",
    "clf = neighbors.KNeighborsClassifier(n_neighbors=2, algorithm='ball_tree', weights='distance')\n",
    "clf = clf.fit(X_train, y_train)"
   ]
  },
  {
   "cell_type": "code",
   "execution_count": 13,
   "metadata": {
    "ExecuteTime": {
     "end_time": "2019-02-19T10:22:46.218167Z",
     "start_time": "2019-02-19T10:22:46.212131Z"
    }
   },
   "outputs": [
    {
     "data": {
      "text/plain": [
       "{'algorithm': 'ball_tree',\n",
       " 'leaf_size': 30,\n",
       " 'metric': 'minkowski',\n",
       " 'metric_params': None,\n",
       " 'n_jobs': 1,\n",
       " 'n_neighbors': 2,\n",
       " 'p': 2,\n",
       " 'weights': 'distance'}"
      ]
     },
     "execution_count": 13,
     "metadata": {},
     "output_type": "execute_result"
    }
   ],
   "source": [
    "clf.get_params()"
   ]
  },
  {
   "cell_type": "code",
   "execution_count": 14,
   "metadata": {
    "ExecuteTime": {
     "end_time": "2019-02-19T10:22:46.544487Z",
     "start_time": "2019-02-19T10:22:46.220582Z"
    },
    "scrolled": false
   },
   "outputs": [
    {
     "name": "stdout",
     "output_type": "stream",
     "text": [
      "Test accuracy:  0.9166666666666666\n",
      "                precision    recall  f1-score   support\n",
      "\n",
      "      Bipin_Kc       1.00      0.71      0.83         7\n",
      "Kishor_Neupane       0.80      1.00      0.89         8\n",
      "Vladimir_Putin       1.00      1.00      1.00         4\n",
      "  Suravi_Regmi       1.00      1.00      1.00         5\n",
      "\n",
      "   avg / total       0.93      0.92      0.91        24\n",
      "\n"
     ]
    },
    {
     "data": {
      "image/png": "[encoded data removed]",
      "text/plain": [
       "<Figure size 432x288 with 2 Axes>"
      ]
     },
     "metadata": {},
     "output_type": "display_data"
    }
   ],
   "source": [
    "# testing or prediction\n",
    "y_preds = clf.predict(X_test)\n",
    "\n",
    "accuracy = accuracy_score(y_test, y_preds)\n",
    "print('Test accuracy: ', accuracy)\n",
    "\n",
    "\n",
    "clf_report = classification_report(y_test, y_preds, target_names=target_names)\n",
    "conf_mat = confusion_matrix(y_test, y_preds)\n",
    "sns.heatmap(conf_mat, square=True, annot=True, fmt='d', cbar=True,\n",
    "            xticklabels=target_names,\n",
    "            yticklabels=target_names)\n",
    "plt.ylabel('true label')\n",
    "plt.xlabel('predicted label');\n",
    "\n",
    "print(clf_report)"
   ]
  },
  {
   "cell_type": "code",
   "execution_count": 15,
   "metadata": {
    "ExecuteTime": {
     "end_time": "2019-02-19T10:22:46.564276Z",
     "start_time": "2019-02-19T10:22:46.546877Z"
    }
   },
   "outputs": [],
   "source": [
    "# save model\n",
    "with open(os.path.join('output', 'recognition_model_knn.pickle'), 'wb') as f:\n",
    "    f.write(pickle.dumps(clf))"
   ]
  },
  {
   "cell_type": "markdown",
   "metadata": {},
   "source": [
    "### Neural network"
   ]
  },
  {
   "cell_type": "code",
   "execution_count": 5,
   "metadata": {
    "ExecuteTime": {
     "end_time": "2019-02-19T10:22:46.678663Z",
     "start_time": "2019-02-19T10:22:46.573463Z"
    }
   },
   "outputs": [],
   "source": [
    "train_x = np.asarray(X_train)\n",
    "train_y = np.asarray(y_train)\n",
    "\n",
    "test_x = np.asarray(X_test)\n",
    "test_y = np.asarray(y_test)"
   ]
  },
  {
   "cell_type": "code",
   "execution_count": 6,
   "metadata": {
    "ExecuteTime": {
     "end_time": "2019-02-19T10:22:56.450279Z",
     "start_time": "2019-02-19T10:22:46.681489Z"
    }
   },
   "outputs": [
    {
     "name": "stderr",
     "output_type": "stream",
     "text": [
      "Using TensorFlow backend.\n"
     ]
    }
   ],
   "source": [
    "# to categorical\n",
    "# ...\n",
    "from keras.utils import to_categorical\n",
    "onehot = to_categorical(train_y)\n",
    "onehot_test = to_categorical(test_y)"
   ]
  },
  {
   "cell_type": "code",
   "execution_count": 7,
   "metadata": {
    "ExecuteTime": {
     "end_time": "2019-02-19T10:22:56.470283Z",
     "start_time": "2019-02-19T10:22:56.459058Z"
    }
   },
   "outputs": [
    {
     "data": {
      "text/plain": [
       "(56, 128)"
      ]
     },
     "execution_count": 7,
     "metadata": {},
     "output_type": "execute_result"
    }
   ],
   "source": [
    "train_x.shape"
   ]
  },
  {
   "cell_type": "code",
   "execution_count": 10,
   "metadata": {
    "ExecuteTime": {
     "end_time": "2019-02-19T10:22:57.041835Z",
     "start_time": "2019-02-19T10:22:56.485547Z"
    }
   },
   "outputs": [
    {
     "name": "stdout",
     "output_type": "stream",
     "text": [
      "_________________________________________________________________\n",
      "Layer (type)                 Output Shape              Param #   \n",
      "=================================================================\n",
      "dense_3 (Dense)              (None, 128)               16512     \n",
      "_________________________________________________________________\n",
      "dropout_3 (Dropout)          (None, 128)               0         \n",
      "_________________________________________________________________\n",
      "dense_4 (Dense)              (None, 32)                4128      \n",
      "_________________________________________________________________\n",
      "dropout_4 (Dropout)          (None, 32)                0         \n",
      "_________________________________________________________________\n",
      "dense_5 (Dense)              (None, 4)                 132       \n",
      "=================================================================\n",
      "Total params: 20,772\n",
      "Trainable params: 20,772\n",
      "Non-trainable params: 0\n",
      "_________________________________________________________________\n"
     ]
    }
   ],
   "source": [
    "from keras.models import Sequential\n",
    "from keras.layers import Dense, Dropout, Flatten\n",
    "\n",
    "model = Sequential()\n",
    "\n",
    "# input layer\n",
    "model.add(Dense(128, input_shape=(128,), activation='relu'))\n",
    "model.add(Dropout(0.2))\n",
    "\n",
    "# hidden layers\n",
    "model.add(Dense(32, activation='relu'))\n",
    "model.add(Dropout(0.2))\n",
    "\n",
    "# model.add(Dense(64, activation='relu'))\n",
    "# model.add(Dropout(0.2))\n",
    "\n",
    "# output layer\n",
    "model.add(Dense(len(target_names), activation='softmax'))\n",
    "\n",
    "model.summary()"
   ]
  },
  {
   "cell_type": "code",
   "execution_count": 11,
   "metadata": {
    "ExecuteTime": {
     "end_time": "2019-02-19T10:22:57.158475Z",
     "start_time": "2019-02-19T10:22:57.044320Z"
    }
   },
   "outputs": [],
   "source": [
    "model.compile(loss='categorical_crossentropy', optimizer='adam', metrics=['accuracy'])"
   ]
  },
  {
   "cell_type": "code",
   "execution_count": 12,
   "metadata": {
    "ExecuteTime": {
     "end_time": "2019-02-19T10:22:59.127215Z",
     "start_time": "2019-02-19T10:22:57.162200Z"
    }
   },
   "outputs": [
    {
     "name": "stdout",
     "output_type": "stream",
     "text": [
      "Train on 44 samples, validate on 12 samples\n",
      "Epoch 1/5\n",
      "44/44 [==============================] - 1s 30ms/step - loss: 1.3805 - acc: 0.3182 - val_loss: 1.3518 - val_acc: 0.5833\n",
      "Epoch 2/5\n",
      "44/44 [==============================] - 0s 238us/step - loss: 1.3532 - acc: 0.4545 - val_loss: 1.3187 - val_acc: 0.5833\n",
      "Epoch 3/5\n",
      "44/44 [==============================] - 0s 351us/step - loss: 1.3122 - acc: 0.5000 - val_loss: 1.2846 - val_acc: 0.5833\n",
      "Epoch 4/5\n",
      "44/44 [==============================] - 0s 238us/step - loss: 1.2820 - acc: 0.5909 - val_loss: 1.2496 - val_acc: 0.6667\n",
      "Epoch 5/5\n",
      "44/44 [==============================] - 0s 187us/step - loss: 1.2366 - acc: 0.6591 - val_loss: 1.2143 - val_acc: 0.7500\n"
     ]
    }
   ],
   "source": [
    "results = model.fit(train_x, onehot, epochs=5, validation_split=0.2)"
   ]
  },
  {
   "cell_type": "code",
   "execution_count": 13,
   "metadata": {
    "ExecuteTime": {
     "end_time": "2019-02-19T10:22:59.142413Z",
     "start_time": "2019-02-19T10:22:59.131119Z"
    }
   },
   "outputs": [
    {
     "data": {
      "text/plain": [
       "0.6333333253860474"
      ]
     },
     "execution_count": 13,
     "metadata": {},
     "output_type": "execute_result"
    }
   ],
   "source": [
    "np.mean(results.history['val_acc'])"
   ]
  },
  {
   "cell_type": "code",
   "execution_count": 14,
   "metadata": {
    "ExecuteTime": {
     "end_time": "2019-02-19T10:22:59.236559Z",
     "start_time": "2019-02-19T10:22:59.154468Z"
    }
   },
   "outputs": [
    {
     "name": "stdout",
     "output_type": "stream",
     "text": [
      "24/24 [==============================] - 0s 142us/step\n",
      "0.625\n"
     ]
    }
   ],
   "source": [
    "loss, acc = model.evaluate(test_x, onehot_test)\n",
    "print(acc)"
   ]
  },
  {
   "cell_type": "code",
   "execution_count": 15,
   "metadata": {
    "ExecuteTime": {
     "end_time": "2019-02-19T10:22:59.395811Z",
     "start_time": "2019-02-19T10:22:59.240732Z"
    }
   },
   "outputs": [],
   "source": [
    "# save model\n",
    "with open(os.path.join('output', 'recognition_model_nn.pickle'), 'wb') as f:\n",
    "    f.write(pickle.dumps(model))"
   ]
  },
  {
   "cell_type": "code",
   "execution_count": null,
   "metadata": {},
   "outputs": [],
   "source": []
  }
 ],
 "metadata": {
  "kernelspec": {
   "display_name": "Python 3",
   "language": "python",
   "name": "python3"
  },
  "language_info": {
   "codemirror_mode": {
    "name": "ipython",
    "version": 3
   },
   "file_extension": ".py",
   "mimetype": "text/x-python",
   "name": "python",
   "nbconvert_exporter": "python",
   "pygments_lexer": "ipython3",
   "version": "3.5.5"
  },
  "toc": {
   "base_numbering": 1,
   "nav_menu": {},
   "number_sections": true,
   "sideBar": true,
   "skip_h1_title": false,
   "title_cell": "Table of Contents",
   "title_sidebar": "Contents",
   "toc_cell": false,
   "toc_position": {},
   "toc_section_display": true,
   "toc_window_display": false
  },
  "varInspector": {
   "cols": {
    "lenName": 16,
    "lenType": 16,
    "lenVar": 40
   },
   "kernels_config": {
    "python": {
     "delete_cmd_postfix": "",
     "delete_cmd_prefix": "del ",
     "library": "var_list.py",
     "varRefreshCmd": "print(var_dic_list())"
    },
    "r": {
     "delete_cmd_postfix": ") ",
     "delete_cmd_prefix": "rm(",
     "library": "var_list.r",
     "varRefreshCmd": "cat(var_dic_list()) "
    }
   },
   "types_to_exclude": [
    "module",
    "function",
    "builtin_function_or_method",
    "instance",
    "_Feature"
   ],
   "window_display": false
  }
 },
 "nbformat": 4,
 "nbformat_minor": 2
}
